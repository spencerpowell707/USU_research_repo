{
 "cells": [
  {
   "cell_type": "code",
   "execution_count": 22,
   "metadata": {},
   "outputs": [],
   "source": [
    "import numpy as np\n",
    "import pandas as pd\n",
    "import matplotlib.pyplot as plt\n",
    "import seaborn as sns"
   ]
  },
  {
   "cell_type": "code",
   "execution_count": 21,
   "metadata": {},
   "outputs": [],
   "source": [
    "df = pd.read_excel('mass_shootings_1982_2020.xlsx', sep=',')"
   ]
  },
  {
   "cell_type": "code",
   "execution_count": 9,
   "metadata": {},
   "outputs": [
    {
     "data": {
      "text/html": [
       "<div>\n",
       "<style scoped>\n",
       "    .dataframe tbody tr th:only-of-type {\n",
       "        vertical-align: middle;\n",
       "    }\n",
       "\n",
       "    .dataframe tbody tr th {\n",
       "        vertical-align: top;\n",
       "    }\n",
       "\n",
       "    .dataframe thead th {\n",
       "        text-align: right;\n",
       "    }\n",
       "</style>\n",
       "<table border=\"1\" class=\"dataframe\">\n",
       "  <thead>\n",
       "    <tr style=\"text-align: right;\">\n",
       "      <th></th>\n",
       "      <th>case</th>\n",
       "      <th>location</th>\n",
       "      <th>date</th>\n",
       "      <th>summary</th>\n",
       "      <th>fatalities</th>\n",
       "      <th>injured</th>\n",
       "      <th>total_victims</th>\n",
       "      <th>location.1</th>\n",
       "      <th>age_of_shooter</th>\n",
       "      <th>prior_signs_mental_health_issues</th>\n",
       "      <th>...</th>\n",
       "      <th>weapon_details</th>\n",
       "      <th>race</th>\n",
       "      <th>gender</th>\n",
       "      <th>sources</th>\n",
       "      <th>mental_health_sources</th>\n",
       "      <th>sources_additional_age</th>\n",
       "      <th>latitude</th>\n",
       "      <th>longitude</th>\n",
       "      <th>type</th>\n",
       "      <th>year</th>\n",
       "    </tr>\n",
       "  </thead>\n",
       "  <tbody>\n",
       "    <tr>\n",
       "      <th>0</th>\n",
       "      <td>Molson Coors shooting</td>\n",
       "      <td>Milwaukee, Wisconsin</td>\n",
       "      <td>2020-02-26</td>\n",
       "      <td>Anthony Ferrill, 51, an employee armed with tw...</td>\n",
       "      <td>5</td>\n",
       "      <td>0</td>\n",
       "      <td>5</td>\n",
       "      <td>Workplace</td>\n",
       "      <td>51</td>\n",
       "      <td>-</td>\n",
       "      <td>...</td>\n",
       "      <td>-</td>\n",
       "      <td>Black</td>\n",
       "      <td>M</td>\n",
       "      <td>https://www.jsonline.com/story/news/local/2020...</td>\n",
       "      <td>-</td>\n",
       "      <td>-</td>\n",
       "      <td>43.044511</td>\n",
       "      <td>-87.962537</td>\n",
       "      <td>Mass</td>\n",
       "      <td>2020</td>\n",
       "    </tr>\n",
       "    <tr>\n",
       "      <th>1</th>\n",
       "      <td>Jersey City kosher market shooting</td>\n",
       "      <td>Jersey City, New Jersey</td>\n",
       "      <td>2019-12-10</td>\n",
       "      <td>David N. Anderson, 47, and Francine Graham, 50...</td>\n",
       "      <td>4</td>\n",
       "      <td>3</td>\n",
       "      <td>7</td>\n",
       "      <td>Other</td>\n",
       "      <td>-</td>\n",
       "      <td>-</td>\n",
       "      <td>...</td>\n",
       "      <td>-</td>\n",
       "      <td>Black</td>\n",
       "      <td>-</td>\n",
       "      <td>https://www.nytimes.com/2019/12/15/nyregion/je...</td>\n",
       "      <td>-</td>\n",
       "      <td>-</td>\n",
       "      <td>40.707363</td>\n",
       "      <td>-74.083609</td>\n",
       "      <td>Spree</td>\n",
       "      <td>2019</td>\n",
       "    </tr>\n",
       "    <tr>\n",
       "      <th>2</th>\n",
       "      <td>Pensacola Naval base shooting</td>\n",
       "      <td>Pensacola, Florida</td>\n",
       "      <td>2019-12-06</td>\n",
       "      <td>Ahmed Mohammed al-Shamrani, A Saudi Arabian mi...</td>\n",
       "      <td>3</td>\n",
       "      <td>8</td>\n",
       "      <td>11</td>\n",
       "      <td>Military</td>\n",
       "      <td>-</td>\n",
       "      <td>-</td>\n",
       "      <td>...</td>\n",
       "      <td>-</td>\n",
       "      <td>-</td>\n",
       "      <td>M</td>\n",
       "      <td>https://www.washingtonpost.com/national-securi...</td>\n",
       "      <td>-</td>\n",
       "      <td>-</td>\n",
       "      <td>30.364707</td>\n",
       "      <td>-87.288567</td>\n",
       "      <td>Mass</td>\n",
       "      <td>2019</td>\n",
       "    </tr>\n",
       "    <tr>\n",
       "      <th>3</th>\n",
       "      <td>Odessa-Midland shooting spree</td>\n",
       "      <td>Odessa, Texas</td>\n",
       "      <td>2019-08-31</td>\n",
       "      <td>Seth A. Ator, 36, fired at police officers who...</td>\n",
       "      <td>7</td>\n",
       "      <td>25</td>\n",
       "      <td>32</td>\n",
       "      <td>Other</td>\n",
       "      <td>36</td>\n",
       "      <td>yes</td>\n",
       "      <td>...</td>\n",
       "      <td>-</td>\n",
       "      <td>White</td>\n",
       "      <td>M</td>\n",
       "      <td>https://www.washingtonpost.com/politics/5-kill...</td>\n",
       "      <td>https://www.nytimes.com/2019/09/02/us/texas-gu...</td>\n",
       "      <td>-</td>\n",
       "      <td>31.925974</td>\n",
       "      <td>-102.279600</td>\n",
       "      <td>Spree</td>\n",
       "      <td>2019</td>\n",
       "    </tr>\n",
       "    <tr>\n",
       "      <th>4</th>\n",
       "      <td>Dayton entertainment district shooting</td>\n",
       "      <td>Dayton, Ohio</td>\n",
       "      <td>2019-08-04</td>\n",
       "      <td>Connor Betts, 24, died during the attack, foll...</td>\n",
       "      <td>9</td>\n",
       "      <td>27</td>\n",
       "      <td>36</td>\n",
       "      <td>Other</td>\n",
       "      <td>24</td>\n",
       "      <td>-</td>\n",
       "      <td>...</td>\n",
       "      <td>AR-15-style rifle, with a 100-round capacity a...</td>\n",
       "      <td>White</td>\n",
       "      <td>M</td>\n",
       "      <td>https://www.nytimes.com/2019/08/04/us/dayton-o...</td>\n",
       "      <td>-</td>\n",
       "      <td>-</td>\n",
       "      <td>39.757312</td>\n",
       "      <td>-84.184947</td>\n",
       "      <td>Mass</td>\n",
       "      <td>2019</td>\n",
       "    </tr>\n",
       "  </tbody>\n",
       "</table>\n",
       "<p>5 rows × 24 columns</p>\n",
       "</div>"
      ],
      "text/plain": [
       "                                     case                 location       date  \\\n",
       "0                   Molson Coors shooting     Milwaukee, Wisconsin 2020-02-26   \n",
       "1      Jersey City kosher market shooting  Jersey City, New Jersey 2019-12-10   \n",
       "2           Pensacola Naval base shooting       Pensacola, Florida 2019-12-06   \n",
       "3           Odessa-Midland shooting spree            Odessa, Texas 2019-08-31   \n",
       "4  Dayton entertainment district shooting             Dayton, Ohio 2019-08-04   \n",
       "\n",
       "                                             summary  fatalities  injured  \\\n",
       "0  Anthony Ferrill, 51, an employee armed with tw...           5        0   \n",
       "1  David N. Anderson, 47, and Francine Graham, 50...           4        3   \n",
       "2  Ahmed Mohammed al-Shamrani, A Saudi Arabian mi...           3        8   \n",
       "3  Seth A. Ator, 36, fired at police officers who...           7       25   \n",
       "4  Connor Betts, 24, died during the attack, foll...           9       27   \n",
       "\n",
       "   total_victims location.1 age_of_shooter prior_signs_mental_health_issues  \\\n",
       "0              5  Workplace             51                                -   \n",
       "1              7      Other              -                                -   \n",
       "2             11   Military              -                                -   \n",
       "3             32      Other             36                              yes   \n",
       "4             36      Other             24                                -   \n",
       "\n",
       "   ...                                     weapon_details   race gender  \\\n",
       "0  ...                                                  -  Black      M   \n",
       "1  ...                                                  -  Black      -   \n",
       "2  ...                                                  -      -      M   \n",
       "3  ...                                                  -  White      M   \n",
       "4  ...  AR-15-style rifle, with a 100-round capacity a...  White      M   \n",
       "\n",
       "                                             sources  \\\n",
       "0  https://www.jsonline.com/story/news/local/2020...   \n",
       "1  https://www.nytimes.com/2019/12/15/nyregion/je...   \n",
       "2  https://www.washingtonpost.com/national-securi...   \n",
       "3  https://www.washingtonpost.com/politics/5-kill...   \n",
       "4  https://www.nytimes.com/2019/08/04/us/dayton-o...   \n",
       "\n",
       "                               mental_health_sources sources_additional_age  \\\n",
       "0                                                  -                      -   \n",
       "1                                                  -                      -   \n",
       "2                                                  -                      -   \n",
       "3  https://www.nytimes.com/2019/09/02/us/texas-gu...                      -   \n",
       "4                                                  -                      -   \n",
       "\n",
       "    latitude   longitude   type  year  \n",
       "0  43.044511  -87.962537   Mass  2020  \n",
       "1  40.707363  -74.083609  Spree  2019  \n",
       "2  30.364707  -87.288567   Mass  2019  \n",
       "3  31.925974 -102.279600  Spree  2019  \n",
       "4  39.757312  -84.184947   Mass  2019  \n",
       "\n",
       "[5 rows x 24 columns]"
      ]
     },
     "execution_count": 9,
     "metadata": {},
     "output_type": "execute_result"
    }
   ],
   "source": [
    "df.head()"
   ]
  },
  {
   "cell_type": "code",
   "execution_count": 10,
   "metadata": {},
   "outputs": [
    {
     "data": {
      "text/plain": [
       "(118, 24)"
      ]
     },
     "execution_count": 10,
     "metadata": {},
     "output_type": "execute_result"
    }
   ],
   "source": [
    "df.shape\n",
    "#shows the shape of the data frame"
   ]
  },
  {
   "cell_type": "code",
   "execution_count": 24,
   "metadata": {},
   "outputs": [
    {
     "name": "stdout",
     "output_type": "stream",
     "text": [
      "<class 'pandas.core.frame.DataFrame'>\n",
      "RangeIndex: 118 entries, 0 to 117\n",
      "Data columns (total 24 columns):\n",
      " #   Column                            Non-Null Count  Dtype         \n",
      "---  ------                            --------------  -----         \n",
      " 0   case                              118 non-null    object        \n",
      " 1   location                          118 non-null    object        \n",
      " 2   date                              118 non-null    datetime64[ns]\n",
      " 3   summary                           118 non-null    object        \n",
      " 4   fatalities                        118 non-null    int64         \n",
      " 5   injured                           118 non-null    int64         \n",
      " 6   total_victims                     118 non-null    int64         \n",
      " 7   location.1                        118 non-null    object        \n",
      " 8   age_of_shooter                    118 non-null    object        \n",
      " 9   prior_signs_mental_health_issues  118 non-null    object        \n",
      " 10  mental_health_details             118 non-null    object        \n",
      " 11  weapons_obtained_legally          118 non-null    object        \n",
      " 12  where_obtained                    118 non-null    object        \n",
      " 13  weapon_type                       118 non-null    object        \n",
      " 14  weapon_details                    118 non-null    object        \n",
      " 15  race                              118 non-null    object        \n",
      " 16  gender                            118 non-null    object        \n",
      " 17  sources                           118 non-null    object        \n",
      " 18  mental_health_sources             118 non-null    object        \n",
      " 19  sources_additional_age            118 non-null    object        \n",
      " 20  latitude                          118 non-null    float64       \n",
      " 21  longitude                         118 non-null    float64       \n",
      " 22  type                              118 non-null    object        \n",
      " 23  year                              118 non-null    int64         \n",
      "dtypes: datetime64[ns](1), float64(2), int64(4), object(17)\n",
      "memory usage: 22.2+ KB\n"
     ]
    }
   ],
   "source": [
    "df.info()"
   ]
  },
  {
   "cell_type": "code",
   "execution_count": 12,
   "metadata": {},
   "outputs": [
    {
     "name": "stdout",
     "output_type": "stream",
     "text": [
      "case 118\n",
      "location 110\n",
      "date 118\n",
      "summary 118\n",
      "fatalities 21\n",
      "injured 30\n",
      "total_victims 38\n",
      "location.1 8\n",
      "age_of_shooter 44\n",
      "prior_signs_mental_health_issues 8\n",
      "mental_health_details 89\n",
      "weapons_obtained_legally 9\n",
      "where_obtained 73\n",
      "weapon_type 67\n",
      "weapon_details 102\n",
      "race 11\n",
      "gender 6\n",
      "sources 118\n",
      "mental_health_sources 81\n",
      "sources_additional_age 101\n",
      "latitude 118\n",
      "longitude 118\n",
      "type 2\n",
      "year 36\n"
     ]
    }
   ],
   "source": [
    "for col in df.columns:\n",
    "    print(col, df[col].nunique())"
   ]
  },
  {
   "cell_type": "code",
   "execution_count": 17,
   "metadata": {},
   "outputs": [],
   "source": [
    "df['date'] = pd.to_datetime(df['date'], errors='coerce')"
   ]
  },
  {
   "cell_type": "code",
   "execution_count": 18,
   "metadata": {},
   "outputs": [
    {
     "data": {
      "text/plain": [
       "0     2020-02-26\n",
       "1     2019-12-10\n",
       "2     2019-12-06\n",
       "3     2019-08-31\n",
       "4     2019-08-04\n",
       "         ...    \n",
       "113   1987-04-23\n",
       "114   1986-08-20\n",
       "115   1984-07-18\n",
       "116   1984-06-29\n",
       "117   1982-08-20\n",
       "Name: date, Length: 118, dtype: datetime64[ns]"
      ]
     },
     "execution_count": 18,
     "metadata": {},
     "output_type": "execute_result"
    }
   ],
   "source": [
    "df['date']"
   ]
  },
  {
   "cell_type": "code",
   "execution_count": 28,
   "metadata": {},
   "outputs": [],
   "source": [
    "num_yr = pd.to_datetime(df['date']).dt.year.value_counts()"
   ]
  },
  {
   "cell_type": "code",
   "execution_count": 34,
   "metadata": {},
   "outputs": [],
   "source": [
    "num_yr.sort_values(ascending=False, inplace=True)"
   ]
  },
  {
   "cell_type": "code",
   "execution_count": 35,
   "metadata": {},
   "outputs": [
    {
     "data": {
      "text/plain": [
       "2018    12\n",
       "2017    11\n",
       "2019    10\n",
       "2015     7\n",
       "2012     7\n",
       "2016     6\n",
       "1999     5\n",
       "2013     5\n",
       "2007     4\n",
       "2009     4\n",
       "1993     4\n",
       "2014     4\n",
       "1998     3\n",
       "1991     3\n",
       "2008     3\n",
       "2006     3\n",
       "2011     3\n",
       "1984     2\n",
       "1997     2\n",
       "1989     2\n",
       "1992     2\n",
       "2005     2\n",
       "1986     1\n",
       "1995     1\n",
       "1987     1\n",
       "1988     1\n",
       "1990     1\n",
       "2001     1\n",
       "2020     1\n",
       "2000     1\n",
       "1996     1\n",
       "2003     1\n",
       "2004     1\n",
       "1994     1\n",
       "2010     1\n",
       "1982     1\n",
       "Name: date, dtype: int64"
      ]
     },
     "execution_count": 35,
     "metadata": {},
     "output_type": "execute_result"
    }
   ],
   "source": [
    "num_yr"
   ]
  },
  {
   "cell_type": "code",
   "execution_count": null,
   "metadata": {},
   "outputs": [],
   "source": []
  }
 ],
 "metadata": {
  "kernelspec": {
   "display_name": "Python 3",
   "language": "python",
   "name": "python3"
  },
  "language_info": {
   "codemirror_mode": {
    "name": "ipython",
    "version": 3
   },
   "file_extension": ".py",
   "mimetype": "text/x-python",
   "name": "python",
   "nbconvert_exporter": "python",
   "pygments_lexer": "ipython3",
   "version": "3.8.3"
  }
 },
 "nbformat": 4,
 "nbformat_minor": 4
}
